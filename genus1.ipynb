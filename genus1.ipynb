{
 "cells": [
  {
   "cell_type": "code",
   "execution_count": 1,
   "metadata": {
    "vscode": {
     "languageId": "python"
    }
   },
   "outputs": [
    {
     "data": {
      "text/plain": [
       "Free Group on generators {a, b}"
      ]
     },
     "execution_count": 1,
     "metadata": {},
     "output_type": "execute_result"
    }
   ],
   "source": [
    "F=FreeGroup('a,b')\n",
    "F"
   ]
  },
  {
   "cell_type": "markdown",
   "metadata": {},
   "source": [
    "Show that for the Fermat curve:\n",
    "\n",
    "[a,b] * [a,b]^a  =  [a,b]^a * [a,b]  \n",
    "\n",
    "\n",
    "These two are the generators of the homology of the compactified Fermat curve, that is modulo the ramification points a^3, b^3, (ab)^3. The genus is one for n=3, thus this should be abelian and these two generators modulo ramification must commute, as they correspond to the generators of the fundamental group of the torus"
   ]
  },
  {
   "cell_type": "code",
   "execution_count": null,
   "metadata": {
    "vscode": {
     "languageId": "python"
    }
   },
   "outputs": [
    {
     "data": {
      "text/plain": [
       "a*b*a^-1*b^-1"
      ]
     },
     "execution_count": 2,
     "metadata": {},
     "output_type": "execute_result"
    }
   ],
   "source": [
    "\n",
    "# We define a^3, b^3, (ab)^3 in the free group, this is the native way to do it, a*a*a or a^3 can cause problems\n",
    "a3 = F([1,1,1])    \n",
    "b3 = F([2,2,2])\n",
    "ab3 = F([1,2,1,2,1,2])\n",
    "\n",
    "# We consider the class modulo Gamma when defining an element as G()\n",
    "G = F.quotient([a3,b3,ab3]) \n",
    "\n",
    "# Define [a,b] mod Gamma\n",
    "comm_ab = G([1,2,-1,-2]) \n",
    "comm_ab"
   ]
  },
  {
   "cell_type": "code",
   "execution_count": null,
   "metadata": {
    "vscode": {
     "languageId": "python"
    }
   },
   "outputs": [
    {
     "name": "stdout",
     "output_type": "stream",
     "text": [
      "a*b*a^-1*b^-1*a^2*b*a^-1*b^-1*a^-1\n",
      "a^2*b*a^-2*b^-1\n"
     ]
    },
    {
     "data": {
      "text/plain": [
       "True"
      ]
     },
     "execution_count": 3,
     "metadata": {},
     "output_type": "execute_result"
    }
   ],
   "source": [
    "# Define [a,b]^a modulo Gamma\n",
    "comm_ab_conj_a = G([1,1,2,-1,-2,-1]) \n",
    "\n",
    "# Now check that they commute\n",
    "\n",
    "left_hand_side = G(comm_ab * comm_ab_conj_a)\n",
    "right_hand_side = G(comm_ab_conj_a * comm_ab)\n",
    "\n",
    "\n",
    "print(left_hand_side)  # prints representative of the class of [a,b][a,b]^a mod Gamma\n",
    "print(right_hand_side) # prints representative of the class of [a,b]^a[a,b] mod Gamma\n",
    "\n",
    "# Check that    [a,b] * [a,b]^a  =  [a,b]^a * [a,b]    modulo Gamma\n",
    "left_hand_side == right_hand_side "
   ]
  },
  {
   "cell_type": "markdown",
   "metadata": {},
   "source": [
    "Now for the Heisenberg curve, in the paper we show that for n=3:\n",
    "\n",
    "[b,[a,b]] can be obtained from [a,[a,b]], [a,[a,b]]^a modulo Gamma.\n",
    "\n",
    "We verify again that [a,[a,b]], [a,[a,b]]^a must commute modulo Gamma, as the generators of the fundamental group of the torus that corresponds to the elliptic curve\n"
   ]
  },
  {
   "cell_type": "code",
   "execution_count": null,
   "metadata": {
    "vscode": {
     "languageId": "python"
    }
   },
   "outputs": [
    {
     "data": {
      "text/plain": [
       "a^2*b*a^-1*b^-1*a^-1*b*a*b^-1*a^-1"
      ]
     },
     "execution_count": 4,
     "metadata": {},
     "output_type": "execute_result"
    }
   ],
   "source": [
    "# We define [a,[a,b]] modΓ\n",
    "\n",
    "double_comm = G([1,1,2,-1,-2,-1,2,1,-2,-1])   \n",
    "double_comm"
   ]
  },
  {
   "cell_type": "code",
   "execution_count": null,
   "metadata": {
    "vscode": {
     "languageId": "python"
    }
   },
   "outputs": [
    {
     "data": {
      "text/plain": [
       "b*a*b*a^-1*b^-1*a*b^-1*a^-1"
      ]
     },
     "execution_count": 5,
     "metadata": {},
     "output_type": "execute_result"
    }
   ],
   "source": [
    "# We define [b,[a,b]] modΓ\n",
    "\n",
    "double_comm_b = G([2,1,2,-1,-2,-2,2,1,-2,-1]) \n",
    "double_comm_b\n",
    "\n",
    "# It happens that [a,[a,b]] and [b,[a,b]] are in the same class modulo Gamma\n",
    "\n",
    "print( double_comm == double_comm_b )"
   ]
  },
  {
   "cell_type": "code",
   "execution_count": null,
   "metadata": {
    "vscode": {
     "languageId": "python"
    }
   },
   "outputs": [
    {
     "name": "stdout",
     "output_type": "stream",
     "text": [
      "False\n"
     ]
    }
   ],
   "source": [
    "#We define [a,[a,b]]^a mod Gamma\n",
    "\n",
    "double_comm_conj_a = G([1,  1,1,2,-1,-2,-1,2,1,-2,-1,  -1])\n",
    "double_comm_conj_a\n",
    "\n",
    "# Not in the same class with [a,[a,b]]\n",
    "print(double_comm_conj_a == double_comm)"
   ]
  },
  {
   "cell_type": "code",
   "execution_count": null,
   "metadata": {
    "vscode": {
     "languageId": "python"
    }
   },
   "outputs": [
    {
     "name": "stdout",
     "output_type": "stream",
     "text": [
      "(a^2*b*a^-1*b^-1*a^-1*b*a*b^-1)^2*a^-2\n",
      "a^3*b*a^-1*b^-1*a^-2*b*a*b^-1*a^-1\n"
     ]
    },
    {
     "data": {
      "text/plain": [
       "True"
      ]
     },
     "execution_count": 8,
     "metadata": {},
     "output_type": "execute_result"
    }
   ],
   "source": [
    "# We check that [a,[a,b]], [a,[a,b]]^a commute modulo Gamma\n",
    "\n",
    "left_hand_side = G(double_comm * double_comm_conj_a)\n",
    "right_hand_side = G(double_comm_conj_a * double_comm) \n",
    "\n",
    "print(left_hand_side) # print a representative of the class\n",
    "print(right_hand_side)\n",
    "\n",
    "\n",
    "# [a,[a,b]] [a,[a,b]]^a indeed commute modulo Gamma\n",
    "print(left_hand_side == right_hand_side)  "
   ]
  },
  {
   "cell_type": "markdown",
   "metadata": {},
   "source": [
    "Thus [a,[a,b]]^a and [a,[a,b]] commute modulo Gamma. These two classes are the generators for the homology of the Heisenberg (elliptic) Curve for n=3,g=1"
   ]
  }
 ],
 "metadata": {
  "kernelspec": {
   "display_name": "SageMath 9.5",
   "language": "sage",
   "name": "sagemath"
  },
  "language_info": {
   "codemirror_mode": {
    "name": "ipython",
    "version": 3
   },
   "file_extension": ".py",
   "mimetype": "text/x-python",
   "name": "sage",
   "nbconvert_exporter": "python",
   "pygments_lexer": "ipython3",
   "version": "3.10.12"
  }
 },
 "nbformat": 4,
 "nbformat_minor": 2
}
